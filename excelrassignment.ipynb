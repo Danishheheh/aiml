{
 "cells": [
  {
   "cell_type": "markdown",
   "id": "e461432b-90b5-4dd2-8c74-d73d6561649c",
   "metadata": {},
   "source": [
    "### 1\n"
   ]
  },
  {
   "cell_type": "code",
   "execution_count": 2,
   "id": "e44553b5-baf9-4c78-9cba-849891d14910",
   "metadata": {},
   "outputs": [
    {
     "name": "stdout",
     "output_type": "stream",
     "text": [
      "10 <class 'int'>\n",
      "3.14 <class 'float'>\n",
      "Hi! <class 'str'>\n",
      "True <class 'bool'>\n"
     ]
    }
   ],
   "source": [
    "\n",
    "num = 10          \n",
    "pi = 3.14         \n",
    "greeting = \"Hi!\"   \n",
    "is_active = True   \n",
    "print(num, type(num))\n",
    "print(pi, type(pi))\n",
    "print(greeting, type(greeting))\n",
    "print(is_active, type(is_active))\n"
   ]
  },
  {
   "cell_type": "markdown",
   "id": "e646f373-d5c1-41bf-b738-dd0e25e549b0",
   "metadata": {},
   "source": [
    "### 2\n"
   ]
  },
  {
   "cell_type": "code",
   "execution_count": 7,
   "id": "92aebc16-bdc0-476b-9aa6-79f57d874d59",
   "metadata": {},
   "outputs": [
    {
     "name": "stdout",
     "output_type": "stream",
     "text": [
      "List Element at index 0: 10\n",
      "List Element at index 3: 40\n",
      "Tuple Element at index 1: 2\n",
      "Tuple Element at index 4: 5\n",
      "Dictionary Value for 'name': Alice\n",
      "Dictionary Value for 'city': New York\n"
     ]
    }
   ],
   "source": [
    "\n",
    "my_list = [10, 20, 30, 40, 50]\n",
    "my_tuple = (1, 2, 3, 4, 5)\n",
    "my_dict = {\"name\": \"Alice\", \"age\": 25, \"city\": \"New York\", \"job\": \"Engineer\", \"active\": True}\n",
    "print(\"List Element at index 0:\", my_list[0])\n",
    "print(\"List Element at index 3:\", my_list[3])\n",
    "print(\"Tuple Element at index 1:\", my_tuple[1])\n",
    "print(\"Tuple Element at index 4:\", my_tuple[4])\n",
    "print(\"Dictionary Value for 'name':\", my_dict[\"name\"])\n",
    "print(\"Dictionary Value for 'city':\", my_dict[\"city\"])\n"
   ]
  },
  {
   "cell_type": "markdown",
   "id": "c2416995-1bac-4220-bf22-7601dadfbea3",
   "metadata": {},
   "source": [
    "### 3"
   ]
  },
  {
   "cell_type": "code",
   "execution_count": 9,
   "id": "2a31efa6-3697-4024-90e9-b382d0513007",
   "metadata": {},
   "outputs": [
    {
     "name": "stdin",
     "output_type": "stream",
     "text": [
      "Enter marks for Subject 1:  11\n",
      "Enter marks for Subject 2:  22\n",
      "Enter marks for Subject 3:  33\n"
     ]
    },
    {
     "name": "stdout",
     "output_type": "stream",
     "text": [
      "Grade: Fail\n"
     ]
    }
   ],
   "source": [
    "\n",
    "subject1 = float(input(\"Enter marks for Subject 1: \"))\n",
    "subject2 = float(input(\"Enter marks for Subject 2: \"))\n",
    "subject3 = float(input(\"Enter marks for Subject 3: \"))\n",
    "average = (subject1 + subject2 + subject3) / 3\n",
    "if average >= 90:\n",
    "    print(\"Grade: A\")\n",
    "elif 80 <= average < 90:\n",
    "    print(\"Grade: B\")\n",
    "elif 70 <= average < 80:\n",
    "    print(\"Grade: C\")\n",
    "else:\n",
    "    print(\"Grade: Fail\")\n"
   ]
  },
  {
   "cell_type": "markdown",
   "id": "214c1fdf-e9be-438d-9e38-2c6cc6dc8a80",
   "metadata": {},
   "source": [
    "### 4"
   ]
  },
  {
   "cell_type": "code",
   "execution_count": 11,
   "id": "1f6199c6-aadf-4f23-9571-8f57cfba998b",
   "metadata": {},
   "outputs": [
    {
     "name": "stdin",
     "output_type": "stream",
     "text": [
      "Enter a positive integer n:  22\n"
     ]
    },
    {
     "name": "stdout",
     "output_type": "stream",
     "text": [
      "The sum of all even numbers between 1 and 22 is: 132\n"
     ]
    }
   ],
   "source": [
    "\n",
    "n = int(input(\"Enter a positive integer n: \"))\n",
    "even_sum = 0\n",
    "for i in range(2, n+1, 2):  \n",
    "    even_sum += i\n",
    "print(\"The sum of all even numbers between 1 and\", n, \"is:\", even_sum)\n"
   ]
  },
  {
   "cell_type": "markdown",
   "id": "7fdd9d3c-fb0c-4448-a83b-75d6b6bdb33d",
   "metadata": {},
   "source": [
    "###  5"
   ]
  },
  {
   "cell_type": "code",
   "execution_count": 13,
   "id": "f270c26b-a3cf-4e90-8cdb-ded172642c7e",
   "metadata": {},
   "outputs": [
    {
     "name": "stdin",
     "output_type": "stream",
     "text": [
      "Enter a positive integer n:  45\n"
     ]
    },
    {
     "name": "stdout",
     "output_type": "stream",
     "text": [
      "Using for loop to print numbers from 1 to 45\n",
      "1\n",
      "2\n",
      "3\n",
      "4\n",
      "5\n",
      "6\n",
      "7\n",
      "8\n",
      "9\n",
      "10\n",
      "11\n",
      "12\n",
      "13\n",
      "14\n",
      "15\n",
      "16\n",
      "17\n",
      "18\n",
      "19\n",
      "20\n",
      "21\n",
      "22\n",
      "23\n",
      "24\n",
      "25\n",
      "26\n",
      "27\n",
      "28\n",
      "29\n",
      "30\n",
      "31\n",
      "32\n",
      "33\n",
      "34\n",
      "35\n",
      "36\n",
      "37\n",
      "38\n",
      "39\n",
      "40\n",
      "41\n",
      "42\n",
      "43\n",
      "44\n",
      "45\n",
      "The sum of all numbers from 1 to 45 is: 1035\n"
     ]
    }
   ],
   "source": [
    "n = int(input(\"Enter a positive integer n: \"))\n",
    "print(\"Using for loop to print numbers from 1 to\", n)\n",
    "for i in range(1, n+1):\n",
    "    print(i)\n",
    "sum_of_numbers = 0\n",
    "i = 1\n",
    "while i <= n:\n",
    "    sum_of_numbers += i\n",
    "    i += 1\n",
    "print(\"The sum of all numbers from 1 to\", n, \"is:\", sum_of_numbers)\n"
   ]
  },
  {
   "cell_type": "markdown",
   "id": "b9a87ab6-07cc-4c7a-b2cd-feedabaf830e",
   "metadata": {},
   "source": [
    "### 6"
   ]
  },
  {
   "cell_type": "code",
   "execution_count": 19,
   "id": "1ef3cb6a-d15c-49ba-b27b-fdeb5396a36f",
   "metadata": {},
   "outputs": [
    {
     "name": "stdout",
     "output_type": "stream",
     "text": [
      "    Name  Age Department  Salary\n",
      "0   John   28         HR   45000\n",
      "1  Alice   34         IT   60000\n",
      "Average salary: 47500.0\n",
      "    Name  Age Department  Salary   Bonus\n",
      "0   John   28         HR   45000  4500.0\n",
      "1  Alice   34         IT   60000  6000.0\n",
      "3  Diana   29    Finance   50000  5000.0\n"
     ]
    }
   ],
   "source": [
    "import pandas as pd\n",
    "data = {\n",
    "    \"Name\": [\"John\", \"Alice\", \"Bob\", \"Diana\"],\n",
    "    \"Age\": [28, 34, 23, 29],\n",
    "    \"Department\": [\"HR\", \"IT\", \"Marketing\", \"Finance\"],\n",
    "    \"Salary\": [45000, 60000, 35000, 50000]\n",
    "}\n",
    "df = pd.DataFrame(data)\n",
    "print(df.head(2))\n",
    "df['Bonus'] = df['Salary'] * 0.10\n",
    "avg_salary = df['Salary'].mean()\n",
    "print(\"Average salary:\", avg_salary)\n",
    "print(df[df['Age'] > 25])\n"
   ]
  },
  {
   "cell_type": "markdown",
   "id": "2619e22a-6851-42fd-a1b3-d9ac6026b998",
   "metadata": {},
   "source": [
    "### 7"
   ]
  },
  {
   "cell_type": "code",
   "execution_count": 27,
   "id": "622520d1-e41f-4963-b2ad-3effeb8556c6",
   "metadata": {},
   "outputs": [],
   "source": [
    "import pandas as pd\n",
    "sales_data = pd.read_csv('Day_7_sales_data.csv')"
   ]
  },
  {
   "cell_type": "code",
   "execution_count": 30,
   "id": "2741132a-a2c7-4084-a055-e5982ba3f449",
   "metadata": {},
   "outputs": [
    {
     "name": "stdout",
     "output_type": "stream",
     "text": [
      "         Date Product Region    Sales  Profit  Quantity\n",
      "0  2023-01-02  Tablet   East  1061.81  236.12         7\n",
      "1  2023-01-06  Laptop  North  1926.07  246.34         8\n",
      "2  2023-01-03  Tablet   East  1597.99  253.17         3\n",
      "3  2023-01-20  Tablet  North  1397.99  242.23         1\n",
      "4  2023-01-04  Laptop   West   734.03  140.36         4\n"
     ]
    }
   ],
   "source": [
    "print(sales_data.head())"
   ]
  },
  {
   "cell_type": "code",
   "execution_count": 32,
   "id": "e25d17b9-4399-4e63-836f-9dd0fdb13077",
   "metadata": {},
   "outputs": [
    {
     "name": "stdout",
     "output_type": "stream",
     "text": [
      "Region\n",
      "East      5818.93\n",
      "North    10449.68\n",
      "South      936.84\n",
      "West      6525.61\n",
      "Name: Sales, dtype: float64\n"
     ]
    }
   ],
   "source": [
    "total_sales_by_region = sales_data.groupby('Region')['Sales'].sum()\n",
    "print(total_sales_by_region)"
   ]
  },
  {
   "cell_type": "markdown",
   "id": "f3bc9513-4c61-4f09-8929-04b761a896da",
   "metadata": {},
   "source": [
    "### 8"
   ]
  },
  {
   "cell_type": "code",
   "execution_count": 36,
   "id": "cdb45048-86cd-4b2b-b884-8457e82b29d2",
   "metadata": {},
   "outputs": [
    {
     "name": "stdout",
     "output_type": "stream",
     "text": [
      "          Date     Product Region    Sales  Profit  Quantity\n",
      "0   2023-01-02      Tablet   East  1061.81  236.12         7\n",
      "1   2023-01-06      Laptop  North  1926.07  246.34         8\n",
      "2   2023-01-03      Tablet   East  1597.99  253.17         3\n",
      "3   2023-01-20      Tablet  North  1397.99  242.23         1\n",
      "7   2023-01-07  Smartphone   East  1799.26  364.97         4\n",
      "8   2023-01-11  Smartphone   West  1401.67  306.24         2\n",
      "9   2023-01-01      Laptop  North  1562.11  170.72         6\n",
      "11  2023-01-12      Laptop   West  1954.86  262.16         4\n",
      "12  2023-01-09     Monitor  North  1748.66  197.62         6\n",
      "17  2023-01-18     Monitor   West  1287.13  153.86         7\n",
      "18  2023-01-13      Tablet   West  1147.92  271.88         9\n"
     ]
    }
   ],
   "source": [
    "\n",
    "high_sales_data = sales_data[sales_data['Sales'] > 1000]\n",
    "print(high_sales_data)"
   ]
  },
  {
   "cell_type": "code",
   "execution_count": 38,
   "id": "7d7595f1-a160-4fe8-8837-0a999c65002e",
   "metadata": {},
   "outputs": [
    {
     "name": "stdout",
     "output_type": "stream",
     "text": [
      "          Date     Product Region    Sales  Profit  Quantity\n",
      "0   2023-01-02      Tablet   East  1061.81  236.12         7\n",
      "2   2023-01-03      Tablet   East  1597.99  253.17         3\n",
      "6   2023-01-14    Keyboard   East   587.13   82.16         8\n",
      "7   2023-01-07  Smartphone   East  1799.26  364.97         4\n",
      "14  2023-01-08      Laptop   East   772.74  226.51         2\n"
     ]
    }
   ],
   "source": [
    "east_sales_data = sales_data[sales_data['Region'] == 'East']\n",
    "print(east_sales_data)"
   ]
  },
  {
   "cell_type": "markdown",
   "id": "25210629-5dcc-44d3-8568-d5cbe7b98572",
   "metadata": {},
   "source": [
    "### 9"
   ]
  },
  {
   "cell_type": "code",
   "execution_count": 43,
   "id": "bac78f42-67be-4813-850d-b7ee7e82f3e8",
   "metadata": {},
   "outputs": [],
   "source": [
    "import pandas as pd\n",
    "\n",
    "banking_data = pd.read_csv('Day_9_banking_data.csv')"
   ]
  },
  {
   "cell_type": "code",
   "execution_count": 46,
   "id": "e49edfe5-c62d-4c31-b53e-c3397367ba37",
   "metadata": {},
   "outputs": [
    {
     "name": "stdout",
     "output_type": "stream",
     "text": [
      "         Date       Account_Type    Branch Transaction_Type  \\\n",
      "0  2023-01-19      Fixed Deposit   Central     Loan Payment   \n",
      "1  2023-01-16            Current    Uptown       Withdrawal   \n",
      "2  2023-01-10            Current    Uptown     Loan Payment   \n",
      "3  2023-01-18            Savings    Uptown     Loan Payment   \n",
      "4  2023-01-14  Recurring Deposit  Suburban     Loan Payment   \n",
      "\n",
      "   Transaction_Amount  Account_Balance  \n",
      "0              985.51          6839.59  \n",
      "1              641.43          8908.39  \n",
      "2             3363.85         12428.67  \n",
      "3             1914.60          5776.63  \n",
      "4             2788.57          4779.04  \n"
     ]
    }
   ],
   "source": [
    "print(banking_data.head())\n"
   ]
  },
  {
   "cell_type": "code",
   "execution_count": 48,
   "id": "4034fda7-94a6-46d9-be30-474e571059de",
   "metadata": {},
   "outputs": [
    {
     "name": "stdout",
     "output_type": "stream",
     "text": [
      "       Transaction_Amount  Account_Balance\n",
      "count           20.000000        20.000000\n",
      "mean          2705.829500      7967.766500\n",
      "std           1429.829787      2770.248821\n",
      "min            641.430000      2592.160000\n",
      "25%           1482.085000      6460.127500\n",
      "50%           2567.645000      7905.275000\n",
      "75%           4121.525000      9127.702500\n",
      "max           4683.640000     12836.510000\n"
     ]
    }
   ],
   "source": [
    "print(banking_data.describe())"
   ]
  },
  {
   "cell_type": "code",
   "execution_count": 50,
   "id": "7aa6a562-0bcc-4b07-a74b-43fa906d3e83",
   "metadata": {},
   "outputs": [
    {
     "name": "stdout",
     "output_type": "stream",
     "text": [
      "Date                  0\n",
      "Account_Type          0\n",
      "Branch                0\n",
      "Transaction_Type      0\n",
      "Transaction_Amount    0\n",
      "Account_Balance       0\n",
      "dtype: int64\n"
     ]
    }
   ],
   "source": [
    "missing_values = banking_data.isnull().sum()\n",
    "print(missing_values)"
   ]
  },
  {
   "cell_type": "markdown",
   "id": "29dc1571-1b52-493b-95f9-59ae9a045a5b",
   "metadata": {},
   "source": [
    "### 10\n"
   ]
  },
  {
   "cell_type": "code",
   "execution_count": 55,
   "id": "865cd3d6-24dd-426b-9003-6d38756a6a75",
   "metadata": {},
   "outputs": [
    {
     "name": "stdout",
     "output_type": "stream",
     "text": [
      "          Date       Account_Type    Branch Transaction_Type  \\\n",
      "2   2023-01-10            Current    Uptown     Loan Payment   \n",
      "4   2023-01-14  Recurring Deposit  Suburban     Loan Payment   \n",
      "5   2023-01-06            Current  Suburban   Service Charge   \n",
      "7   2023-01-09            Current   Central     Loan Payment   \n",
      "8   2023-01-20  Recurring Deposit  Downtown   Service Charge   \n",
      "13  2023-01-05  Recurring Deposit   Central     Loan Payment   \n",
      "14  2023-01-01      Fixed Deposit  Downtown       Withdrawal   \n",
      "15  2023-01-03            Savings  Suburban   Service Charge   \n",
      "16  2023-01-02      Fixed Deposit   Central          Deposit   \n",
      "17  2023-01-07            Current   Central     Loan Payment   \n",
      "19  2023-01-17            Savings   Central          Deposit   \n",
      "\n",
      "    Transaction_Amount  Account_Balance  \n",
      "2              3363.85         12428.67  \n",
      "4              2788.57          4779.04  \n",
      "5              4584.05          7635.47  \n",
      "7              2346.72         10708.85  \n",
      "8              3899.98         12646.56  \n",
      "13             4683.64          6762.43  \n",
      "14             4136.54          8175.08  \n",
      "15             3350.32         12836.51  \n",
      "16             4421.57          8330.40  \n",
      "17             4116.52          9785.64  \n",
      "19             4516.52          8789.19  \n"
     ]
    }
   ],
   "source": [
    "high_transaction_amounts = banking_data[banking_data['Transaction_Amount'] > 2000]\n",
    "print(high_transaction_amounts)"
   ]
  },
  {
   "cell_type": "code",
   "execution_count": 57,
   "id": "41ada130-bada-4553-84f1-c9eadd0d2bd4",
   "metadata": {},
   "outputs": [
    {
     "name": "stdout",
     "output_type": "stream",
     "text": [
      "          Date       Account_Type   Branch Transaction_Type  \\\n",
      "0   2023-01-19      Fixed Deposit  Central     Loan Payment   \n",
      "2   2023-01-10            Current   Uptown     Loan Payment   \n",
      "3   2023-01-18            Savings   Uptown     Loan Payment   \n",
      "7   2023-01-09            Current  Central     Loan Payment   \n",
      "13  2023-01-05  Recurring Deposit  Central     Loan Payment   \n",
      "17  2023-01-07            Current  Central     Loan Payment   \n",
      "\n",
      "    Transaction_Amount  Account_Balance  \n",
      "0               985.51          6839.59  \n",
      "2              3363.85         12428.67  \n",
      "3              1914.60          5776.63  \n",
      "7              2346.72         10708.85  \n",
      "13             4683.64          6762.43  \n",
      "17             4116.52          9785.64  \n"
     ]
    }
   ],
   "source": [
    "loan_payments_high_balance = banking_data[(banking_data['Transaction_Type'] == 'Loan Payment') & (banking_data['Account_Balance'] > 5000)]\n",
    "print(loan_payments_high_balance)"
   ]
  },
  {
   "cell_type": "code",
   "execution_count": 59,
   "id": "90ee2153-c5d3-418a-a9ec-4f9dea752383",
   "metadata": {},
   "outputs": [
    {
     "name": "stdout",
     "output_type": "stream",
     "text": [
      "          Date   Account_Type  Branch Transaction_Type  Transaction_Amount  \\\n",
      "1   2023-01-16        Current  Uptown       Withdrawal              641.43   \n",
      "2   2023-01-10        Current  Uptown     Loan Payment             3363.85   \n",
      "3   2023-01-18        Savings  Uptown     Loan Payment             1914.60   \n",
      "12  2023-01-15  Fixed Deposit  Uptown   Service Charge             1225.50   \n",
      "\n",
      "    Account_Balance  \n",
      "1           8908.39  \n",
      "2          12428.67  \n",
      "3           5776.63  \n",
      "12          4224.47  \n"
     ]
    }
   ],
   "source": [
    "    uptown_transactions = banking_data[banking_data['Branch'] == 'Uptown']\n",
    "print(uptown_transactions)"
   ]
  },
  {
   "cell_type": "code",
   "execution_count": 61,
   "id": "2dd94924-19b4-4d84-99cc-47213ebfbf3f",
   "metadata": {},
   "outputs": [
    {
     "data": {
      "image/png": "[encoded data removed]",
      "text/plain": [
       "<Figure size 1000x600 with 1 Axes>"
      ]
     },
     "metadata": {},
     "output_type": "display_data"
    }
   ],
   "source": [
    "import matplotlib.pyplot as plt\n",
    "total_transaction_per_account_type = banking_data.groupby('Account_Type')['Transaction_Amount'].sum()\n",
    "plt.figure(figsize=(10, 6))\n",
    "total_transaction_per_account_type.plot(kind='bar', color='skyblue')\n",
    "plt.title('Total Transaction Amount per Account Type')\n",
    "plt.xlabel('Account Type')\n",
    "plt.ylabel('Total Transaction Amount')\n",
    "plt.xticks(rotation=45)\n",
    "plt.grid(axis='y')\n",
    "plt.show()"
   ]
  },
  {
   "cell_type": "code",
   "execution_count": 63,
   "id": "c7f45640-e4eb-4323-a303-809fe310edd6",
   "metadata": {},
   "outputs": [
    {
     "data": {
      "image/png": "[encoded data removed]",
      "text/plain": [
       "<Figure size 800x800 with 1 Axes>"
      ]
     },
     "metadata": {},
     "output_type": "display_data"
    }
   ],
   "source": [
    "transactions_per_branch = banking_data['Branch'].value_counts()\n",
    "plt.figure(figsize=(8, 8))\n",
    "plt.pie(transactions_per_branch, labels=transactions_per_branch.index, autopct='%1.1f%%', startangle=140, colors=['lightcoral', 'lightskyblue', 'lightgreen'])\n",
    "plt.title('Percentage of Transactions per Branch')\n",
    "plt.axis('equal')  \n",
    "plt.show()"
   ]
  },
  {
   "cell_type": "code",
   "execution_count": 69,
   "id": "ac669012-956a-45e6-bddf-c088f4d004b8",
   "metadata": {},
   "outputs": [],
   "source": [
    "import pandas as pd\n",
    "pharma_data = pd.read_csv('Day_13_Pharma_data.csv')"
   ]
  },
  {
   "cell_type": "code",
   "execution_count": 71,
   "id": "bc3ebb8f-3be8-4217-9ff3-88811b3ae461",
   "metadata": {},
   "outputs": [
    {
     "name": "stdout",
     "output_type": "stream",
     "text": [
      "Product_ID         0\n",
      "Product_Name       0\n",
      "Region             0\n",
      "Marketing_Spend    0\n",
      "Sales              0\n",
      "Effectiveness      0\n",
      "Side_Effects       0\n",
      "Age_Group          0\n",
      "Trial_Period       0\n",
      "dtype: int64\n"
     ]
    }
   ],
   "source": [
    "missing_values = pharma_data.isnull().sum()\n",
    "print(missing_values)"
   ]
  },
  {
   "cell_type": "code",
   "execution_count": 73,
   "id": "85f70715-2a3f-41ac-abb7-e982ccd661aa",
   "metadata": {},
   "outputs": [
    {
     "name": "stdout",
     "output_type": "stream",
     "text": [
      "Duplicates: 0\n"
     ]
    }
   ],
   "source": [
    "duplicates = pharma_data.duplicated().sum()\n",
    "print(f'Duplicates: {duplicates}')"
   ]
  },
  {
   "cell_type": "code",
   "execution_count": null,
   "id": "4675436a-9f40-4712-8b90-6b2dca5bb60b",
   "metadata": {},
   "outputs": [],
   "source": []
  }
 ],
 "metadata": {
  "kernelspec": {
   "display_name": "Python [conda env:base] *",
   "language": "python",
   "name": "conda-base-py"
  },
  "language_info": {
   "codemirror_mode": {
    "name": "ipython",
    "version": 3
   },
   "file_extension": ".py",
   "mimetype": "text/x-python",
   "name": "python",
   "nbconvert_exporter": "python",
   "pygments_lexer": "ipython3",
   "version": "3.12.7"
  }
 },
 "nbformat": 4,
 "nbformat_minor": 5
}
