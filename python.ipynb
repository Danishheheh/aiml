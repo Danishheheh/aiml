{
 "cells": [
  {
   "cell_type": "code",
   "execution_count": 27,
   "id": "a3861783-a30e-47e3-82d1-fab15637300f",
   "metadata": {},
   "outputs": [
    {
     "name": "stdout",
     "output_type": "stream",
     "text": [
      "[100, 53, 200, 79, 20, 89, 1007]\n",
      "[100, 200, 20]\n",
      "[53, 79, 89, 1007]\n"
     ]
    }
   ],
   "source": [
    "list = [100,53,200,79,20,89,1007]\n",
    "print(list)\n",
    "e=[]\n",
    "o=[]\n",
    "for x in list:\n",
    "    if x%2==0:\n",
    "        e.append(x)\n",
    "    else:\n",
    "        o.append(x)\n",
    "print(e)\n",
    "print(o)\n"
   ]
  },
  {
   "cell_type": "code",
   "execution_count": 29,
   "id": "272199f6-52fc-4ede-b515-6ffed5bbe089",
   "metadata": {},
   "outputs": [
    {
     "data": {
      "text/plain": [
       "[100, 53, 200, 79, 20, 89, 1007]"
      ]
     },
     "execution_count": 29,
     "metadata": {},
     "output_type": "execute_result"
    }
   ],
   "source": [
    "list"
   ]
  },
  {
   "cell_type": "code",
   "execution_count": 40,
   "id": "207ff5a3-2e09-449f-af55-fbb91498e57d",
   "metadata": {},
   "outputs": [
    {
     "name": "stdout",
     "output_type": "stream",
     "text": [
      "[['apple', 10], ['banana', 5], ['cherry', 10], ['dragon', 10], ['dragon', 10], ['apple', 20], ['apple', 15]]\n"
     ]
    }
   ],
   "source": [
    "orders=[['apple',10],['banana',5],['cherry',7],['dragon',10],['dragon',10],['apple',20]]\n",
    "for each in orders:\n",
    "    if each[0]==\"cherry\":\n",
    "        each[1]=10\n",
    "orders.append([\"apple\",15])\n",
    "print(orders)\n"
   ]
  },
  {
   "cell_type": "code",
   "execution_count": 48,
   "id": "9a45635f-b9c6-4331-a994-170c58a303f4",
   "metadata": {},
   "outputs": [
    {
     "name": "stdout",
     "output_type": "stream",
     "text": [
      "[10, 20, 15]\n"
     ]
    },
    {
     "data": {
      "text/plain": [
       "45"
      ]
     },
     "execution_count": 48,
     "metadata": {},
     "output_type": "execute_result"
    }
   ],
   "source": [
    "total=[]\n",
    "for every_item in orders:\n",
    "    if every_item[0]==\"apple\":\n",
    "        total.append(every_item[1])\n",
    "print(total)\n",
    "sum(total)"
   ]
  },
  {
   "cell_type": "code",
   "execution_count": 58,
   "id": "af6cbfcf-5170-483f-8f84-f5564137c6ee",
   "metadata": {},
   "outputs": [
    {
     "name": "stdout",
     "output_type": "stream",
     "text": [
      "(4, 10, 9, 'A', 9.81, False, (9-6j))\n",
      "<class 'tuple'>\n"
     ]
    }
   ],
   "source": [
    "tup1=(4,10,9,\"A\",9.81,False,9-6j)\n",
    "print(tuple)\n",
    "print(type(tup1))"
   ]
  },
  {
   "cell_type": "code",
   "execution_count": 76,
   "id": "56a65122-5002-4270-b6d3-2f2abf2bcd3c",
   "metadata": {},
   "outputs": [
    {
     "data": {
      "text/plain": [
       "(9.81, False)"
      ]
     },
     "execution_count": 76,
     "metadata": {},
     "output_type": "execute_result"
    }
   ],
   "source": [
    "tup1[4:-1]"
   ]
  },
  {
   "cell_type": "code",
   "execution_count": 90,
   "id": "81302fad-7ee3-48d3-bd1e-bb9d967d2246",
   "metadata": {},
   "outputs": [
    {
     "name": "stdout",
     "output_type": "stream",
     "text": [
      "6\n"
     ]
    },
    {
     "data": {
      "text/plain": [
       "1"
      ]
     },
     "execution_count": 90,
     "metadata": {},
     "output_type": "execute_result"
    }
   ],
   "source": [
    "print(tup1.index(9-6j))\n",
    "tup1.count(4)"
   ]
  },
  {
   "cell_type": "code",
   "execution_count": 2,
   "id": "0529d411-b0c4-4c27-91ae-70b6fc073a1c",
   "metadata": {},
   "outputs": [
    {
     "data": {
      "text/plain": [
       "['__class__',\n",
       " '__class_getitem__',\n",
       " '__contains__',\n",
       " '__delattr__',\n",
       " '__delitem__',\n",
       " '__dir__',\n",
       " '__doc__',\n",
       " '__eq__',\n",
       " '__format__',\n",
       " '__ge__',\n",
       " '__getattribute__',\n",
       " '__getitem__',\n",
       " '__getstate__',\n",
       " '__gt__',\n",
       " '__hash__',\n",
       " '__init__',\n",
       " '__init_subclass__',\n",
       " '__ior__',\n",
       " '__iter__',\n",
       " '__le__',\n",
       " '__len__',\n",
       " '__lt__',\n",
       " '__ne__',\n",
       " '__new__',\n",
       " '__or__',\n",
       " '__reduce__',\n",
       " '__reduce_ex__',\n",
       " '__repr__',\n",
       " '__reversed__',\n",
       " '__ror__',\n",
       " '__setattr__',\n",
       " '__setitem__',\n",
       " '__sizeof__',\n",
       " '__str__',\n",
       " '__subclasshook__',\n",
       " 'clear',\n",
       " 'copy',\n",
       " 'fromkeys',\n",
       " 'get',\n",
       " 'items',\n",
       " 'keys',\n",
       " 'pop',\n",
       " 'popitem',\n",
       " 'setdefault',\n",
       " 'update',\n",
       " 'values']"
      ]
     },
     "execution_count": 2,
     "metadata": {},
     "output_type": "execute_result"
    }
   ],
   "source": [
    "dir(dict)"
   ]
  },
  {
   "cell_type": "code",
   "execution_count": 10,
   "id": "b95f8691-7357-427c-8be8-596f0841d175",
   "metadata": {},
   "outputs": [
    {
     "data": {
      "text/plain": [
       "{'viral': 90, 'rohit': 100, 'siraj': 97, 'dhoni': 500}"
      ]
     },
     "execution_count": 10,
     "metadata": {},
     "output_type": "execute_result"
    }
   ],
   "source": [
    "scores={\"viral\":90,\"rohit\":100,\"siraj\":97,\"dhoni\":500}\n",
    "scores"
   ]
  },
  {
   "cell_type": "code",
   "execution_count": 12,
   "id": "a35c46e0-23ff-4d73-bab1-f010aed1476f",
   "metadata": {},
   "outputs": [],
   "source": [
    "scores['Aswin']=15"
   ]
  },
  {
   "cell_type": "code",
   "execution_count": 14,
   "id": "c491eef5-4998-4b51-a001-03a2a70bbfee",
   "metadata": {},
   "outputs": [
    {
     "data": {
      "text/plain": [
       "{'viral': 90, 'rohit': 100, 'siraj': 97, 'dhoni': 500, 'Aswin': 15}"
      ]
     },
     "execution_count": 14,
     "metadata": {},
     "output_type": "execute_result"
    }
   ],
   "source": [
    "scores"
   ]
  },
  {
   "cell_type": "code",
   "execution_count": 28,
   "id": "2cfcf212-1d51-4219-984d-c0cb67948233",
   "metadata": {},
   "outputs": [],
   "source": [
    "scores.update({\"viral\":22,\"bumrah\":77})"
   ]
  },
  {
   "cell_type": "code",
   "execution_count": 30,
   "id": "d9b947ee-7f3b-4e7d-8c16-66de5aeda960",
   "metadata": {},
   "outputs": [
    {
     "data": {
      "text/plain": [
       "{'viral': 22,\n",
       " 'rohit': 100,\n",
       " 'siraj': 97,\n",
       " 'dhoni': 500,\n",
       " 'Aswin': 15,\n",
       " 'bumrah': 77}"
      ]
     },
     "execution_count": 30,
     "metadata": {},
     "output_type": "execute_result"
    }
   ],
   "source": [
    "scores"
   ]
  },
  {
   "cell_type": "code",
   "execution_count": 32,
   "id": "1f30e2c6-4f83-46f9-8d45-1e48409221e9",
   "metadata": {},
   "outputs": [
    {
     "data": {
      "text/plain": [
       "22"
      ]
     },
     "execution_count": 32,
     "metadata": {},
     "output_type": "execute_result"
    }
   ],
   "source": [
    "scores.setdefault(\"viral\",22)"
   ]
  },
  {
   "cell_type": "code",
   "execution_count": 34,
   "id": "8705b22e-012f-4263-9eee-18ea9f3dcc56",
   "metadata": {},
   "outputs": [
    {
     "data": {
      "text/plain": [
       "{'viral': 22,\n",
       " 'rohit': 100,\n",
       " 'siraj': 97,\n",
       " 'dhoni': 500,\n",
       " 'Aswin': 15,\n",
       " 'bumrah': 77}"
      ]
     },
     "execution_count": 34,
     "metadata": {},
     "output_type": "execute_result"
    }
   ],
   "source": [
    "scores"
   ]
  },
  {
   "cell_type": "code",
   "execution_count": 36,
   "id": "1f66e01a-ca20-44b7-a9a1-77cda40d4be8",
   "metadata": {},
   "outputs": [],
   "source": [
    "scores.update({\"viral\":22})"
   ]
  },
  {
   "cell_type": "code",
   "execution_count": 38,
   "id": "46129689-e50b-4923-86cb-334a595617ec",
   "metadata": {},
   "outputs": [
    {
     "data": {
      "text/plain": [
       "{'viral': 22,\n",
       " 'rohit': 100,\n",
       " 'siraj': 97,\n",
       " 'dhoni': 500,\n",
       " 'Aswin': 15,\n",
       " 'bumrah': 77}"
      ]
     },
     "execution_count": 38,
     "metadata": {},
     "output_type": "execute_result"
    }
   ],
   "source": [
    "scores"
   ]
  },
  {
   "cell_type": "code",
   "execution_count": 40,
   "id": "818fc5bc-6c0d-45fd-8a80-128aa8ff20c8",
   "metadata": {},
   "outputs": [
    {
     "data": {
      "text/plain": [
       "('bumrah', 77)"
      ]
     },
     "execution_count": 40,
     "metadata": {},
     "output_type": "execute_result"
    }
   ],
   "source": [
    "scores.popitem()"
   ]
  },
  {
   "cell_type": "code",
   "execution_count": 42,
   "id": "13643e0a-f58f-47f0-9297-71dfac5ad86d",
   "metadata": {},
   "outputs": [
    {
     "data": {
      "text/plain": [
       "22"
      ]
     },
     "execution_count": 42,
     "metadata": {},
     "output_type": "execute_result"
    }
   ],
   "source": [
    "scores.pop(\"viral\")"
   ]
  },
  {
   "cell_type": "code",
   "execution_count": 44,
   "id": "2d29b2b4-3108-4127-9754-1b82d5b3550d",
   "metadata": {},
   "outputs": [
    {
     "data": {
      "text/plain": [
       "{'rohit': 100, 'siraj': 97, 'dhoni': 500, 'Aswin': 15}"
      ]
     },
     "execution_count": 44,
     "metadata": {},
     "output_type": "execute_result"
    }
   ],
   "source": [
    "scores"
   ]
  },
  {
   "cell_type": "code",
   "execution_count": 46,
   "id": "fe302b98-8188-4dcd-85d2-911831f00a0d",
   "metadata": {},
   "outputs": [
    {
     "data": {
      "text/plain": [
       "97"
      ]
     },
     "execution_count": 46,
     "metadata": {},
     "output_type": "execute_result"
    }
   ],
   "source": [
    "scores.get(\"siraj\")"
   ]
  },
  {
   "cell_type": "code",
   "execution_count": 56,
   "id": "00fdedd0-2ec9-408f-922e-65ce1ea52679",
   "metadata": {},
   "outputs": [
    {
     "data": {
      "text/plain": [
       "{'A': None, 'B': None}"
      ]
     },
     "execution_count": 56,
     "metadata": {},
     "output_type": "execute_result"
    }
   ],
   "source": [
    "list11=[\"A\",\"B\"]\n",
    "newdict=dict.fromkeys(list11)\n",
    "newdict"
   ]
  },
  {
   "cell_type": "code",
   "execution_count": 58,
   "id": "ed285339-77e3-4abd-a3d3-66572eecf376",
   "metadata": {},
   "outputs": [],
   "source": [
    "newdict.update({\"A\":30})"
   ]
  },
  {
   "cell_type": "code",
   "execution_count": 60,
   "id": "baa47e29-5273-4218-9cac-198915f4699b",
   "metadata": {},
   "outputs": [
    {
     "data": {
      "text/plain": [
       "{'A': 30, 'B': None}"
      ]
     },
     "execution_count": 60,
     "metadata": {},
     "output_type": "execute_result"
    }
   ],
   "source": [
    "newdict"
   ]
  },
  {
   "cell_type": "code",
   "execution_count": 64,
   "id": "afd9e2dc-486d-4db1-b83f-e1dd729fa8a2",
   "metadata": {},
   "outputs": [
    {
     "name": "stdout",
     "output_type": "stream",
     "text": [
      "[100, 97, 500, 15]\n",
      "712\n"
     ]
    }
   ],
   "source": [
    "scores_list=[]\n",
    "for v in scores.values():\n",
    "    scores_list.append(v)\n",
    "print(scores_list)\n",
    "print(sum(scores_list))"
   ]
  },
  {
   "cell_type": "code",
   "execution_count": 24,
   "id": "42aded47-3479-4f31-8d44-c493f748cfa2",
   "metadata": {},
   "outputs": [
    {
     "name": "stdout",
     "output_type": "stream",
     "text": [
      "{1, 2, 9, 10, 11}\n",
      "<class 'set'>\n"
     ]
    }
   ],
   "source": [
    "\n",
    "s1={1,2,9,10,11}\n",
    "print(s1)\n",
    "print(type(s1))"
   ]
  },
  {
   "cell_type": "code",
   "execution_count": 7,
   "id": "cb5993fa-a454-4b50-99c1-7ce057f40e80",
   "metadata": {},
   "outputs": [
    {
     "name": "stdout",
     "output_type": "stream",
     "text": [
      "{455, 777, 11, 12, 141, 1654}\n",
      "<class 'set'>\n"
     ]
    }
   ],
   "source": [
    "lst1=[11,12,141,455,1654,777]\n",
    "s2=set(lst1)\n",
    "print(s2)\n",
    "print(type(s2))"
   ]
  },
  {
   "cell_type": "code",
   "execution_count": 9,
   "id": "6f151cd6-d78e-4579-b24f-d82bbf8989c1",
   "metadata": {},
   "outputs": [
    {
     "data": {
      "text/plain": [
       "['__and__',\n",
       " '__class__',\n",
       " '__class_getitem__',\n",
       " '__contains__',\n",
       " '__delattr__',\n",
       " '__dir__',\n",
       " '__doc__',\n",
       " '__eq__',\n",
       " '__format__',\n",
       " '__ge__',\n",
       " '__getattribute__',\n",
       " '__getstate__',\n",
       " '__gt__',\n",
       " '__hash__',\n",
       " '__iand__',\n",
       " '__init__',\n",
       " '__init_subclass__',\n",
       " '__ior__',\n",
       " '__isub__',\n",
       " '__iter__',\n",
       " '__ixor__',\n",
       " '__le__',\n",
       " '__len__',\n",
       " '__lt__',\n",
       " '__ne__',\n",
       " '__new__',\n",
       " '__or__',\n",
       " '__rand__',\n",
       " '__reduce__',\n",
       " '__reduce_ex__',\n",
       " '__repr__',\n",
       " '__ror__',\n",
       " '__rsub__',\n",
       " '__rxor__',\n",
       " '__setattr__',\n",
       " '__sizeof__',\n",
       " '__str__',\n",
       " '__sub__',\n",
       " '__subclasshook__',\n",
       " '__xor__',\n",
       " 'add',\n",
       " 'clear',\n",
       " 'copy',\n",
       " 'difference',\n",
       " 'difference_update',\n",
       " 'discard',\n",
       " 'intersection',\n",
       " 'intersection_update',\n",
       " 'isdisjoint',\n",
       " 'issubset',\n",
       " 'issuperset',\n",
       " 'pop',\n",
       " 'remove',\n",
       " 'symmetric_difference',\n",
       " 'symmetric_difference_update',\n",
       " 'union',\n",
       " 'update']"
      ]
     },
     "execution_count": 9,
     "metadata": {},
     "output_type": "execute_result"
    }
   ],
   "source": [
    "dir(set)"
   ]
  },
  {
   "cell_type": "code",
   "execution_count": 13,
   "id": "24d6fca7-efc0-449c-982c-49f50026d791",
   "metadata": {},
   "outputs": [
    {
     "data": {
      "text/plain": [
       "{1, 2, 9, 10, 11, 12, 141, 455, 777, 1654}"
      ]
     },
     "execution_count": 13,
     "metadata": {},
     "output_type": "execute_result"
    }
   ],
   "source": [
    "s1|s2"
   ]
  },
  {
   "cell_type": "code",
   "execution_count": 26,
   "id": "5a817f42-64cc-4d19-8b5e-5dfcd373201a",
   "metadata": {},
   "outputs": [
    {
     "data": {
      "text/plain": [
       "{11}"
      ]
     },
     "execution_count": 26,
     "metadata": {},
     "output_type": "execute_result"
    }
   ],
   "source": [
    "s1&s2"
   ]
  },
  {
   "cell_type": "code",
   "execution_count": 30,
   "id": "ddd4af6a-d84c-4ee5-bbf8-4ebda9b337bc",
   "metadata": {},
   "outputs": [
    {
     "data": {
      "text/plain": [
       "{1, 2, 9, 10}"
      ]
     },
     "execution_count": 30,
     "metadata": {},
     "output_type": "execute_result"
    }
   ],
   "source": [
    "s1-s2"
   ]
  },
  {
   "cell_type": "code",
   "execution_count": 32,
   "id": "462a5662-b5ae-4d0b-b072-92f48e30450d",
   "metadata": {},
   "outputs": [
    {
     "data": {
      "text/plain": [
       "{1, 2, 9, 10, 12, 141, 455, 777, 1654}"
      ]
     },
     "execution_count": 32,
     "metadata": {},
     "output_type": "execute_result"
    }
   ],
   "source": [
    "s1.symmetric_difference(s2)"
   ]
  },
  {
   "cell_type": "code",
   "execution_count": 34,
   "id": "fda6c70b-6baf-4134-bbc7-aa9a1dac2c4c",
   "metadata": {},
   "outputs": [
    {
     "data": {
      "text/plain": [
       "False"
      ]
     },
     "execution_count": 34,
     "metadata": {},
     "output_type": "execute_result"
    }
   ],
   "source": [
    "s2.issuperset(s1)"
   ]
  },
  {
   "cell_type": "code",
   "execution_count": 40,
   "id": "8e300a7d-6a6b-464d-a73b-e76cc5ebb6ac",
   "metadata": {},
   "outputs": [
    {
     "data": {
      "text/plain": [
       "False"
      ]
     },
     "execution_count": 40,
     "metadata": {},
     "output_type": "execute_result"
    }
   ],
   "source": [
    "s2.issubset(s1)"
   ]
  },
  {
   "cell_type": "code",
   "execution_count": 50,
   "id": "4a486e6d-8d7d-4b0c-9ef5-b33a2cc8ec3c",
   "metadata": {},
   "outputs": [
    {
     "name": "stdout",
     "output_type": "stream",
     "text": [
      "welcome to aiml classes\n",
      "we started with python\n",
      "this is swesome classes\n"
     ]
    }
   ],
   "source": [
    "str1=\"welcome to aiml classes\"\n",
    "str2='we started with python'\n",
    "str3='''this is swesome classes'''\n",
    "print(str1+\"\\n\"+str2+\"\\n\"+str3)"
   ]
  },
  {
   "cell_type": "code",
   "execution_count": 78,
   "id": "d2d1300a-d9b3-46df-9940-324320aa1281",
   "metadata": {},
   "outputs": [
    {
     "data": {
      "text/plain": [
       "'wm  s'"
      ]
     },
     "execution_count": 78,
     "metadata": {},
     "output_type": "execute_result"
    }
   ],
   "source": [
    "str1[0::5]"
   ]
  },
  {
   "cell_type": "code",
   "execution_count": 82,
   "id": "30fa6430-382c-4d38-9629-0f6ae4998178",
   "metadata": {},
   "outputs": [
    {
     "data": {
      "text/plain": [
       "['welcome', 'to', 'aiml', 'classes']"
      ]
     },
     "execution_count": 82,
     "metadata": {},
     "output_type": "execute_result"
    }
   ],
   "source": [
    "str1.split()"
   ]
  },
  {
   "cell_type": "code",
   "execution_count": 99,
   "id": "fddcc18f-300b-47c6-bb2c-e73b3d571684",
   "metadata": {},
   "outputs": [
    {
     "data": {
      "text/plain": [
       "'hello wrold!'"
      ]
     },
     "execution_count": 99,
     "metadata": {},
     "output_type": "execute_result"
    }
   ],
   "source": [
    "str4=\"hello wrold!    \"\n",
    "str4.strip()"
   ]
  },
  {
   "cell_type": "code",
   "execution_count": 105,
   "id": "7b87c1ba-6fb1-4272-a93b-ce73ce68ef84",
   "metadata": {},
   "outputs": [
    {
     "data": {
      "text/plain": [
       "'HELLO WROLD!    '"
      ]
     },
     "execution_count": 105,
     "metadata": {},
     "output_type": "execute_result"
    }
   ],
   "source": [
    "str4.upper()"
   ]
  },
  {
   "cell_type": "code",
   "execution_count": 113,
   "id": "8f3363f7-7e07-4c7c-ae8a-0025ce93adf8",
   "metadata": {},
   "outputs": [
    {
     "data": {
      "text/plain": [
       "'Hello wrold!    '"
      ]
     },
     "execution_count": 113,
     "metadata": {},
     "output_type": "execute_result"
    }
   ],
   "source": [
    "str4.capitalize()"
   ]
  },
  {
   "cell_type": "code",
   "execution_count": null,
   "id": "dfd22208-25a9-4fd7-95a3-25d78ee88d40",
   "metadata": {},
   "outputs": [],
   "source": []
  },
  {
   "cell_type": "code",
   "execution_count": null,
   "id": "cde18fa4-138d-4446-a79c-1fe0d68e5f8d",
   "metadata": {},
   "outputs": [],
   "source": []
  }
 ],
 "metadata": {
  "kernelspec": {
   "display_name": "Python [conda env:base] *",
   "language": "python",
   "name": "conda-base-py"
  },
  "language_info": {
   "codemirror_mode": {
    "name": "ipython",
    "version": 3
   },
   "file_extension": ".py",
   "mimetype": "text/x-python",
   "name": "python",
   "nbconvert_exporter": "python",
   "pygments_lexer": "ipython3",
   "version": "3.12.7"
  }
 },
 "nbformat": 4,
 "nbformat_minor": 5
}
